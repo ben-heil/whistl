{
 "cells": [
  {
   "cell_type": "markdown",
   "metadata": {},
   "source": [
    "# Dataset Statistics\n",
    "This notebook keeps track of various statistics about the compendium dataset like how many samples are labled, which diseases are present, etc.\n",
    "\n",
    "To skip straight to the stats, click [here](#stats)"
   ]
  },
  {
   "cell_type": "code",
   "execution_count": 1,
   "metadata": {},
   "outputs": [],
   "source": [
    "from collections import Counter\n",
    "import json\n",
    "import os\n",
    "import sys\n",
    "\n",
    "# __file__ isn't defined for jupyter notebooks\n",
    "curr_path = os.path.dirname(os.path.abspath(os.path.abspath('')))\n",
    "whistl_path = os.path.join(curr_path, os.pardir, 'whistl')\n",
    "sys.path.append(whistl_path)\n",
    "import utils"
   ]
  },
  {
   "cell_type": "code",
   "execution_count": 2,
   "metadata": {},
   "outputs": [],
   "source": [
    "map_file = os.path.join(curr_path, os.pardir, 'data', 'sample_classifications.pkl')\n",
    "sample_to_label = utils.parse_map_file(map_file)\n",
    "sample_ids = sample_to_label.keys()"
   ]
  },
  {
   "cell_type": "code",
   "execution_count": 3,
   "metadata": {},
   "outputs": [],
   "source": [
    "# Not all labeled samples show up in the compendium, which causes pandas to panic. To fix this we have to \n",
    "# take the intersection of the accessions in sample_ids and the accessions in the compendium\n",
    "compendium_path = os.path.join(curr_path, os.pardir, 'data', 'human_compendium', 'HOMO_SAPIENS.tsv')\n",
    "\n",
    "header_ids = None\n",
    "with open(compendium_path) as in_file:\n",
    "    header = in_file.readline()\n",
    "    header_ids = header.split('\\t')\n",
    "\n",
    "valid_sample_ids = [id_ for id_ in sample_ids if id_ in header_ids]"
   ]
  },
  {
   "cell_type": "code",
   "execution_count": 4,
   "metadata": {},
   "outputs": [],
   "source": [
    "metadata_file = os.path.join(curr_path, os.pardir, 'data', 'all_metadata.json')\n",
    "metadata_json = json.load(open(metadata_file))\n",
    "sample_metadata = metadata_json['samples']\n",
    "\n",
    "sample_to_study = {}\n",
    "\n",
    "experiments = metadata_json['experiments']\n",
    "\n",
    "for study in experiments:\n",
    "    for accession in experiments[study]['sample_accession_codes']:\n",
    "        sample_to_study[accession] = study"
   ]
  },
  {
   "cell_type": "code",
   "execution_count": 5,
   "metadata": {},
   "outputs": [],
   "source": [
    "# Remove beadchip info as it will be removed on its own later\n",
    "no_beadchip_ids = []\n",
    "for sample in valid_sample_ids:\n",
    "    if 'beadchip' not in sample_metadata[sample]['refinebio_platform'].lower():\n",
    "        # Leave out 'other' labels as they won't be included in the analysis\n",
    "        if sample_to_label[sample] != 'other':\n",
    "            no_beadchip_ids.append(sample)\n",
    "valid_sample_ids = no_beadchip_ids"
   ]
  },
  {
   "cell_type": "code",
   "execution_count": 6,
   "metadata": {},
   "outputs": [],
   "source": [
    "studies = set()\n",
    "platforms = []\n",
    "diseases = []\n",
    "disease_study_counts = {}\n",
    "\n",
    "for sample in valid_sample_ids:\n",
    "    study = sample_to_study[sample]\n",
    "    studies.add(study)\n",
    "    platform = sample_metadata[sample]['refinebio_platform'].lower()\n",
    "    platforms.append(platform)\n",
    "    \n",
    "    disease = sample_to_label[sample]\n",
    "    diseases.append(disease)\n",
    "    \n",
    "    if disease in disease_study_counts:\n",
    "        if study not in disease_study_counts[disease]:\n",
    "            disease_study_counts[disease].append(study)\n",
    "    else:\n",
    "        disease_study_counts[disease] = [study]\n",
    "        \n",
    "\n",
    "platforms = Counter(platforms)\n",
    "diseases = Counter(diseases)"
   ]
  },
  {
   "cell_type": "markdown",
   "metadata": {},
   "source": [
    "<a id='stats'></a>\n",
    "## Stats\n",
    "All code beyond this point exists solely to print statistics about the data"
   ]
  },
  {
   "cell_type": "code",
   "execution_count": 7,
   "metadata": {},
   "outputs": [
    {
     "name": "stdout",
     "output_type": "stream",
     "text": [
      "Number of samples used in the analyses: 6758\n",
      "Number of studies used in the analyses: 74\n"
     ]
    }
   ],
   "source": [
    "print('Number of samples used in the analyses: {}'.format(len(valid_sample_ids)))\n",
    "print('Number of studies used in the analyses: {}'.format(len(studies)))"
   ]
  },
  {
   "cell_type": "code",
   "execution_count": 8,
   "metadata": {},
   "outputs": [
    {
     "name": "stdout",
     "output_type": "stream",
     "text": [
      "Count\tPlatform:\n",
      "3816\taffymetrix human genome u133 plus 2.0 array (hgu133plus2)\n",
      "964\taffymetrix ht hg-u133+ pm array plate (hthgu133pluspm)\n",
      "666\tillumina hiseq 2000 (illuminahiseq2000)\n",
      "279\taffymetrix human gene 1.1 st array (hugene11st)\n",
      "214\taffymetrix human gene 1.0 st array (hugene10st)\n",
      "208\tillumina hiseq 2500 (illuminahiseq2500)\n",
      "181\taffymetrix human genome u133a array (hgu133a)\n",
      "162\taffymetrix human genome u133a 2.0 array (hgu133a2)\n",
      "160\taffymetrix human genome u219 array (hgu219)\n",
      "69\tillumina genome analyzer iix (illuminagenomeanalyzeriix)\n",
      "27\taffymetrix human gene 2.0 st array (hugene20st)\n",
      "12\taffymetrix human genome u95 version 2 array (hgu95av2)\n"
     ]
    }
   ],
   "source": [
    "print('Count\\tPlatform:')\n",
    "for platform, count in platforms.most_common():\n",
    "    print('{}\\t{}'.format(count, platform))"
   ]
  },
  {
   "cell_type": "code",
   "execution_count": 9,
   "metadata": {},
   "outputs": [
    {
     "name": "stdout",
     "output_type": "stream",
     "text": [
      "Samples\tStudies\tDisease\n",
      "1705\t57\thealthy\n",
      "1229\t21\tsepsis\n",
      "967\t4\tra\n",
      "565\t11\tlupus\n",
      "543\t1\tms\n",
      "454\t4\ttb\n",
      "274\t2\tparkinsons\n",
      "152\t1\tipf\n",
      "125\t1\tdepression\n",
      "111\t1\tsjia\n",
      "75\t1\turemia\n",
      "69\t3\tscleroderma\n",
      "41\t1\tgpd\n",
      "41\t1\tpv\n",
      "40\t1\tpsoriasis\n",
      "38\t1\tpneumonia\n",
      "37\t4\tlps\n",
      "34\t1\tltb\n",
      "27\t1\tdengue\n",
      "27\t1\tsjogrens\n",
      "27\t1\thuntingtons\n",
      "25\t1\tstills\n",
      "20\t1\tmeningitis\n",
      "19\t1\tmalaria\n",
      "19\t1\tet\n",
      "16\t1\thidradenitis\n",
      "16\t1\tkawasaki\n",
      "10\t1\tmelas\n",
      "10\t1\tnarcolepsy\n",
      "9\t1\tpmf\n",
      "8\t1\tcad\n",
      "8\t1\tmsa\n",
      "8\t1\tpsp\n",
      "6\t1\tdrd\n",
      "2\t1\tcbd\n",
      "1\t1\tvascular_dementia\n"
     ]
    }
   ],
   "source": [
    "print('Samples\\tStudies\\tDisease')\n",
    "for disease, count in diseases.most_common():\n",
    "    print('{}\\t{}\\t{}'.format(count, len(disease_study_counts[disease]), disease))"
   ]
  }
 ],
 "metadata": {
  "kernelspec": {
   "display_name": "Python 3",
   "language": "python",
   "name": "python3"
  },
  "language_info": {
   "codemirror_mode": {
    "name": "ipython",
    "version": 3
   },
   "file_extension": ".py",
   "mimetype": "text/x-python",
   "name": "python",
   "nbconvert_exporter": "python",
   "pygments_lexer": "ipython3",
   "version": "3.7.3"
  }
 },
 "nbformat": 4,
 "nbformat_minor": 2
}
